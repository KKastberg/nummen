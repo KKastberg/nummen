{
 "cells": [
  {
   "attachments": {},
   "cell_type": "markdown",
   "metadata": {},
   "source": [
    "# Laboration 2: Optimalt sparande\n",
    "\n",
    "Our lab is written in GO. To run it in notebook format please refer to https://github.com/gopherdata/gophernotes.\n",
    "\n",
    "Babak Samimi & Kevin Kastberg"
   ]
  },
  {
   "attachments": {},
   "cell_type": "markdown",
   "metadata": {},
   "source": [
    "### Neccessary imports"
   ]
  },
  {
   "cell_type": "code",
   "execution_count": 13,
   "metadata": {},
   "outputs": [],
   "source": [
    "import (\n",
    "\t\"fmt\"\n",
    "\t\"image/color\"\n",
    "\t\"math\"\n",
    "\t\"bytes\"\n",
    "\t\"math/rand\"\n",
    "\n",
    "\t\"gonum.org/v1/gonum/mat\"\n",
    "\t\"gonum.org/v1/plot\"\n",
    "\t\"gonum.org/v1/plot/plotter\"\n",
    "\t\"gonum.org/v1/plot/vg\"\n",
    ")"
   ]
  },
  {
   "attachments": {},
   "cell_type": "markdown",
   "metadata": {},
   "source": [
    "### Helper functions"
   ]
  },
  {
   "cell_type": "code",
   "execution_count": 2,
   "metadata": {},
   "outputs": [],
   "source": [
    "// Print a matrix in a nice format\n",
    "func print_matrix(matrix *mat.Dense) {\n",
    "\tvar rows, columns = matrix.Dims()\n",
    "\tfmt.Println(\"Matrix (\", rows, \"x\", columns, \"): \")\n",
    "\tfor i := 0; i < rows; i++ {\n",
    "\t\tfor j := 0; j < columns; j++ {\n",
    "\t\t\tfmt.Printf(\"%f \", matrix.At(i, j))\n",
    "\t\t}\n",
    "\t\tfmt.Println(\"\")\n",
    "\t}\n",
    "\tfmt.Println(\"\")\n",
    "}\n",
    "\n",
    "// Print a vector in a nice format\n",
    "func print_vector(vector *mat.VecDense) {\n",
    "\tvar rows, cols = vector.Dims()\n",
    "\tfmt.Println(\"Matrix (\", rows, \"x\", cols, \"): \")\n",
    "\tfor i := 0; i < rows; i++ {\n",
    "\t\tfmt.Printf(\"%f \", vector.At(i, 0))\n",
    "\t}\n",
    "\tfmt.Println(\"\")\n",
    "}\n",
    "\n",
    "// Function to plot the graphs of a list of functions given the x and y min and max\n",
    "func plot_functions(x_min float64, x_max float64, y_min float64, y_max float64, functions []func(float64) float64, x_points [][]float64, y_points [][]float64) *plot.Plot {\n",
    "\t// Create a plot and set its title and axis label\n",
    "\tp, err := plot.New()\n",
    "\tif err != nil {\n",
    "\t\tpanic(err)\n",
    "\t}\n",
    "\tp.Title.Text = \"Graphs\"\n",
    "\tp.X.Label.Text = \"X\"\n",
    "\tp.Y.Label.Text = \"Y\"\n",
    "\tp.X.Min = x_min\n",
    "\tp.X.Max = x_max\n",
    "\tp.Y.Min = y_min\n",
    "\tp.Y.Max = y_max\n",
    "\n",
    "\t// Create a grid\n",
    "\tgrid := plotter.NewGrid()\n",
    "\tp.Add(grid)\n",
    "\n",
    "\t// Create a line of points\n",
    "\tfor i := 0; i < len(functions); i++ {\n",
    "\t\tpts := make(plotter.XYs, 100)\n",
    "\t\tfor j := 0; j < 100; j++ {\n",
    "\t\t\tx := x_min + (x_max-x_min)*float64(j)/100\n",
    "\t\t\tpts[j].X = x\n",
    "\t\t\tpts[j].Y = math.Max(math.Min(functions[i](x), y_max), y_min)\n",
    "\t\t}\n",
    "\n",
    "\t\t// Add the line to the plot\n",
    "\t\tl, err := plotter.NewLine(pts)\n",
    "\t\tif err != nil {\n",
    "\t\t\tpanic(err)\n",
    "\t\t}\n",
    "\t\tl.LineStyle.Width = vg.Points(1)\n",
    "\t\tl.LineStyle.Color = color.RGBA{R: uint8(rand.Intn(255)), G: uint8(rand.Intn(255)), B: uint8(rand.Intn(255)), A: 255}\n",
    "\t\tp.Add(l)\n",
    "\t}\n",
    "\n",
    "\t// Create a scatter plot\n",
    "\tfor i := 0; i < len(x_points); i++ {\n",
    "\t\tpts := make(plotter.XYs, len(x_points[i]))\n",
    "\t\tfor j := 0; j < len(x_points[i]); j++ {\n",
    "\t\t\tpts[j].X = x_points[i][j]\n",
    "\t\t\tpts[j].Y = y_points[i][j]\n",
    "\t\t}\n",
    "\n",
    "\t\t// Add the line to the plot\n",
    "\t\ts, err := plotter.NewScatter(pts)\n",
    "\t\tif err != nil {\n",
    "\t\t\tpanic(err)\n",
    "\t\t}\n",
    "\t\ts.GlyphStyle.Color = color.RGBA{R: uint8(rand.Intn(255)), G: uint8(rand.Intn(255)), B: uint8(rand.Intn(255)), A: 255}\n",
    "\t\tp.Add(s)\n",
    "\t}\n",
    "\n",
    "\treturn p\n",
    "}\n",
    "\n",
    "\n",
    "// Display a plot in the notebook\n",
    "func display_plot(p *plot.Plot) {\n",
    "\tvar buf bytes.Buffer\n",
    "\tc, err := p.WriterTo(6*vg.Inch, 6*vg.Inch, \"png\")\n",
    "\tif err != nil {\n",
    "\t\t\tpanic(err)\n",
    "\t}\n",
    "\tif _, err := c.WriteTo(&buf); err != nil {\n",
    "\t\t\tpanic(err)\n",
    "\t}\n",
    "\tDisplay(display.PNG(buf.Bytes()))\n",
    "}\n",
    "\n",
    "// Calculate the rmse for a regression of a function given a list of x and y points and the function\n",
    "func rmse(x_points []float64, y_points []float64, function func(float64) float64) float64 {\n",
    "\tvar sum float64 = 0\n",
    "\tfor i := 0; i < len(x_points); i++ {\n",
    "\t\tsum += math.Pow(y_points[i]-function(x_points[i]), 2)\n",
    "\t}\n",
    "\treturn math.Sqrt(sum / float64(len(x_points)))\n",
    "}"
   ]
  },
  {
   "attachments": {},
   "cell_type": "markdown",
   "metadata": {},
   "source": [
    "### Least squares method\n",
    "\n",
    "$\\vec{x} = (A^{T}A)^{-1}A^{T}\\vec{b}$"
   ]
  },
  {
   "cell_type": "code",
   "execution_count": 3,
   "metadata": {},
   "outputs": [],
   "source": [
    "// Solve a linear system of equations using least squares\n",
    "// returns a list of the calculated constants ordered by the columns of A\n",
    "func least_square(A *mat.Dense, b *mat.Dense) []float64 {\n",
    "\tA_rows, A_cols := A.Dims()\n",
    "\t_, b_cols := b.Dims()\n",
    "\n",
    "\t// Create the matrix (A^T*A)^-1\n",
    "\tA_T_A := mat.NewDense(A_cols, A_cols, nil)\n",
    "\tA_T_A.Mul(A.T(), A)\n",
    "\tA_T_A_inv := mat.NewDense(A_cols, A_cols, nil)\n",
    "\tA_T_A_inv.Inverse(A_T_A)\n",
    "\n",
    "\t// Create the matrix A^T*b\n",
    "\tA_T_b := mat.NewDense(A_cols, b_cols, nil)\n",
    "\tA_T_b.Mul(A.T(), b)\n",
    "\n",
    "\t// Calculate the solution x\n",
    "\tx := mat.NewDense(A_cols, b_cols, nil)\n",
    "\tx.Mul(A_T_A_inv, A_T_b)\n",
    "\n",
    "\tx_list := make([]float64, A_cols)\n",
    "\tfor i := 0; i < A_cols; i++ {\n",
    "\t\tx_list[i] = x.At(i, 0)\n",
    "\t}\n",
    "\n",
    "\treturn x_list\n",
    "}"
   ]
  },
  {
   "attachments": {},
   "cell_type": "markdown",
   "metadata": {},
   "source": [
    "### Polynomial interpolation"
   ]
  },
  {
   "cell_type": "code",
   "execution_count": 64,
   "metadata": {},
   "outputs": [],
   "source": [
    "// Perform polynomial interpolation to find the coefficients of the polynomial\n",
    "func polynomial_interpolation(x []float64, y []float64) []float64 {\n",
    "\tpoint_count := len(x)\n",
    "\ty_vector := mat.NewVecDense(point_count, y)\n",
    "\t\n",
    "\t// Create vander matrix\n",
    "\tvander_matrix := mat.NewDense(point_count, point_count, nil)\n",
    "\tfor row := 0; row < point_count; row++ {\n",
    "\t\tfor col := 0; col < point_count; col++ {\n",
    "\t\t\tvander_matrix.Set(row, col, math.Pow(x[row], float64(col)))\n",
    "\t\t}\n",
    "\t}\n",
    "\n",
    "\t// Solve the system of equations\n",
    "\tvar c mat.VecDense\n",
    "\tc.SolveVec(vander_matrix, y_vector)\n",
    "\n",
    "\t// Convert the solution to a list\n",
    "\tsolution := make([]float64, point_count)\n",
    "\tfor i := 0; i < point_count; i++ {\n",
    "\t\tsolution[i] = c.At(i, 0)\n",
    "\t}\n",
    "\treturn solution\n",
    "}"
   ]
  },
  {
   "attachments": {},
   "cell_type": "markdown",
   "metadata": {},
   "source": [
    "## Problem 1\n",
    "\n",
    "We want to minimize the following expression:\n",
    "\n",
    "$\\sum_{n=0}^{\\infty} \\frac{\\tilde{U}\\left(\\tilde{\\alpha}_n\\right)}{f\\left(X_n\\right)-\\tilde{\\alpha}_n} \\Delta X$\n",
    "\n",
    "Where $α_{n}$ is the parameter we want to change for n=1,2,3…. This gives for each n the expression which we want to minimize: \n",
    "\n",
    "$\\frac{\\tilde{U}\\left(\\tilde{\\alpha}_n\\right)}{f\\left(X_n\\right)-\\tilde{\\alpha}_n} \\Delta X$\n",
    "\n",
    "Hence we know that if we found the minimal solution each of the expressions above (for each n) needs to fulfill:\n",
    "\n",
    "$0=\\frac{\\partial}{\\partial \\tilde{\\alpha}_n} \\frac{\\tilde{U}\\left(\\tilde{\\alpha}_n\\right)}{f\\left(X_n\\right)-\\tilde{\\alpha}_n}$\n",
    "\n",
    "From this we can retrive the desired expression as:\n",
    "\n",
    "$0=\\frac{\\partial}{\\partial \\tilde{\\alpha}_n} \\frac{\\tilde{U}\\left(\\tilde{\\alpha}_n\\right)}{f\\left(X_n\\right)-\\tilde{\\alpha}_n}$\n",
    "\n",
    "$0=\\frac{(f(X_{n})-\\tilde{\\alpha}_n)\\tilde{U}'\\left(\\tilde{\\alpha}_n\\right) + \\tilde{U}\\left(\\tilde{\\alpha}_n\\right)}{(f\\left(X_n\\right)-\\tilde{\\alpha}_n)^{2}}$\n",
    "\n",
    "$0=\\frac{\\tilde{U}'\\left(\\tilde{\\alpha}_n\\right)}{f\\left(X_n\\right)-\\tilde{\\alpha}_n} + \\frac{\\tilde{U}\\left(\\tilde{\\alpha}_n\\right)}{(f\\left(X_n\\right)-\\tilde{\\alpha}_n)^{2}}$\n",
    "\n",
    "$1 = - \\frac{\\tilde{U}\\left(\\tilde{\\alpha}_n\\right)}{\\tilde{U}'\\left(\\tilde{\\alpha}_n\\right)(f(X_{n})-\\tilde{\\alpha}_n)}$\n",
    "\n",
    "$f(X_{n})-\\tilde{\\alpha}_n = \\frac{\\tilde{U}\\left(\\tilde{\\alpha}_n\\right)}{\\tilde{U}'\\left(\\tilde{\\alpha}_n\\right)}$\n",
    "\n",
    "$\\square$"
   ]
  },
  {
   "attachments": {},
   "cell_type": "markdown",
   "metadata": {},
   "source": [
    "## Problem 2\n",
    "\n",
    "We apply least of squares to fit a curve on the form \n",
    "\n",
    "$f(X_{n}) = aX+bX^{2}\n",
    "\n",
    "to the data points provided. Then we can calculate the error with RMSE which is done below.\n",
    "\n",
    "Then we use polynomial interpolation according to the method described in the lectures and implemented in the code below and above. According to theorem 3.4 (Sauer, 2011) the error for the polynomial interpolation in our case is 0.\n"
   ]
  },
  {
   "cell_type": "code",
   "execution_count": 14,
   "metadata": {},
   "outputs": [
    {
     "name": "stdout",
     "output_type": "stream",
     "text": [
      "Least squares solution:  [1.0708944034566272 0.061849368625103374] MSE:  0.13346578073852655\n",
      "Polynomial interpolation solution:  [0 -8.78166723647708 44.165113675259256 -70.92037448567002 51.97907708140844 -17.549630642626468 2.197481608106086] MSE:  2.0158593113977334e-13\n"
     ]
    },
    {
     "data": {
      "image/png": "[encoded data removed]",
      "text/plain": [
       "image/png"
      ]
     },
     "metadata": {},
     "output_type": "display_data"
    }
   ],
   "source": [
    "// Data points\n",
    "x := []float64{0.0, 0.5, 1.0, 1.5, 2.0, 2.99, 3.0}\n",
    "y := []float64{0.0, 0.52, 1.09, 1.75, 2.45, 3.5, 4.0}\n",
    "data_count := len(x)\n",
    "\n",
    "// Solve using least squares\n",
    "A := mat.NewDense(data_count, 2, nil)\n",
    "for i := 0; i < data_count; i++ {\n",
    "\tA.Set(i, 0, x[i])\n",
    "\tA.Set(i, 1, math.Pow(x[i], 2))\n",
    "}\n",
    "b := mat.NewDense(data_count, 1, y)\n",
    "\n",
    "c1 := least_square(A, b)\n",
    "a1 := c1[0]\n",
    "b1 := c1[1]\n",
    "func f1(x float64) float64 {return a1*x + b1*math.Pow(x, 2)};\n",
    "e1 := rmse(x, y, f1)\n",
    "fmt.Println(\"Least squares solution:\")\n",
    "fmt.Println(\"a: \", a1, \"b: \", b1, \"RMSE: \", e1)\n",
    "\n",
    "// Solve using polynomial interpolation\n",
    "c2 := polynomial_interpolation(x, y)\n",
    "func f2(x float64) float64 {var y float64; for i := 0; i < len(c2); i++ {y = y + c2[i]*math.Pow(x, float64(i))}; return y};\n",
    "e2 := rmse(x, y, f2)\n",
    "fmt.Println(\"\\nPolynomial interpolation solution:\"\n",
    "fmt.Println(\"Coefficients: \", c2, \"RMSE: \", e2)\n",
    "\n",
    "// Plot the results\n",
    "p := plot_functions(0, 3.5, 0, 5, []func(float64) float64{f1, f2}, [][]float64{x}, [][]float64{y})\n",
    "display_plot(p)"
   ]
  },
  {
   "attachments": {},
   "cell_type": "markdown",
   "metadata": {},
   "source": [
    "## Problem 3"
   ]
  },
  {
   "cell_type": "code",
   "execution_count": 20,
   "metadata": {},
   "outputs": [],
   "source": [
    "// Data points\n",
    "x := []float64{150, 200, 300, 500, 1000, 2000}\n",
    "y := []float64{2, 3, 4, 5, 6, 7}\n",
    "data_count := len(x)"
   ]
  },
  {
   "attachments": {},
   "cell_type": "markdown",
   "metadata": {},
   "source": [
    "Starting with equation (5)\n",
    "\n",
    "$\\frac{1}{U(x)} = \\frac{1}{8} + \\frac{a}{x}$\n",
    "\n",
    "We rewrite is as this an use least of squares:\n",
    "\n",
    "$\\frac{1}{U(x)} - \\frac{1}{8} = \\frac{a}{x}$"
   ]
  },
  {
   "cell_type": "code",
   "execution_count": 40,
   "metadata": {},
   "outputs": [
    {
     "name": "stdout",
     "output_type": "stream",
     "text": [
      "Least squares solution:\n",
      "a:  48.46922258706006 RMSE:  0.3606392297954927\n"
     ]
    },
    {
     "data": {
      "text/plain": [
       "48 <nil>"
      ]
     },
     "execution_count": 40,
     "metadata": {},
     "output_type": "execute_result"
    }
   ],
   "source": [
    "// Solve using least squares\n",
    "A := mat.NewDense(data_count, 1, nil)\n",
    "for i := 0; i < data_count; i++ {\n",
    "\tA.Set(i, 0, 1/x[i])\n",
    "}\n",
    "b := mat.NewDense(data_count, 1, nil)\n",
    "for i := 0; i < data_count; i++ {\n",
    "\tb.Set(i, 0, 1/y[i]-1.0/8.0)\n",
    "}\n",
    "\n",
    "c1 := least_square(A, b)\n",
    "a1 := c1[0]\n",
    "func f1(x float64) float64 {return 1.0/(1.0/8.0+a1/x)};\n",
    "e1 := rmse(x, y, f1)\n",
    "fmt.Println(\"Least squares solution:\")\n",
    "fmt.Println(\"a: \", a1, \"RMSE: \", e1)"
   ]
  },
  {
   "attachments": {},
   "cell_type": "markdown",
   "metadata": {},
   "source": [
    "Now equation (6)\n",
    "\n",
    "$U(x) = 8 - ax^{b}$\n",
    "\n",
    "Which we can rewrite as:\n",
    "\n",
    "$ln(8-U(x)) = ln(a) - bln(x)$"
   ]
  },
  {
   "cell_type": "code",
   "execution_count": 49,
   "metadata": {},
   "outputs": [
    {
     "name": "stdout",
     "output_type": "stream",
     "text": [
      "Least squares solution:\n",
      "a:  174.5246522317766 b:  -0.6640119820775112 RMSE:  0.18303941802090457\n",
      "\n",
      "Polynomial interpolation solution:\n",
      "Coefficients:  [-5.306571277159706 0.0803201037171653 -0.0002697683629007291 4.391615144556583e-07 -3.154038492273997e-10 7.699716523246483e-14] RMSE:  1.8586870976047228e-13\n"
     ]
    },
    {
     "data": {
      "image/png": "[encoded data removed]",
      "text/plain": [
       "image/png"
      ]
     },
     "metadata": {},
     "output_type": "display_data"
    }
   ],
   "source": [
    "// Solve using least squares\n",
    "A := mat.NewDense(data_count, 2, nil)\n",
    "for i := 0; i < data_count; i++ {\n",
    "\tA.Set(i, 0, 1)\n",
    "\tA.Set(i, 1, math.Log(x[i]))\n",
    "}\n",
    "b := mat.NewDense(data_count, 1, nil)\n",
    "for i := 0; i < data_count; i++ {\n",
    "\tb.Set(i, 0, math.Log(8-y[i]))\n",
    "}\n",
    "\n",
    "c2 := least_square(A, b)\n",
    "a2 := math.Exp(c2[0])\n",
    "b2 := c2[1]\n",
    "func f2(x float64) float64 {return 8 - a2*math.Pow(x, b2)};\n",
    "e2 := rmse(x, y, f2)\n",
    "fmt.Println(\"Least squares solution:\")\n",
    "fmt.Println(\"a: \", a2, \"b: \", b2, \"RMSE: \", e2)\n"
   ]
  },
  {
   "attachments": {},
   "cell_type": "markdown",
   "metadata": {},
   "source": [
    "Now we use GaussNewton on equation (6)"
   ]
  },
  {
   "cell_type": "code",
   "execution_count": 60,
   "metadata": {},
   "outputs": [
    {
     "name": "stdout",
     "output_type": "stream",
     "text": [
      "Gauus Newton solution:\n",
      "a:  126.79319764502414 b:  -0.6082002220230581 RMSE:  0.12081020947745619\n"
     ]
    },
    {
     "data": {
      "text/plain": [
       "74 <nil>"
      ]
     },
     "execution_count": 60,
     "metadata": {},
     "output_type": "execute_result"
    }
   ],
   "source": [
    "precision := 1e-99\n",
    "max_iterations := 10000\n",
    "a0 := 5.0\n",
    "b0 := 0.1\n",
    "\n",
    "func U(x float64, a float64, b float64) float64 {\n",
    "\treturn 8 - a*math.Pow(x, b)\n",
    "}\n",
    "\n",
    "func J(x float64, a float64, b float64) (float64, float64) {\n",
    "\treturn -math.Pow(x, b), -a*math.Log(x)*math.Pow(x, b)\n",
    "}\n",
    "\n",
    "// Iterate the gauss-newton algorithm\n",
    "for n := 0; n < max_iterations; n++ {\n",
    "\t// Create the equation system Ax = b\n",
    "\tA := mat.NewDense(data_count, 2, nil)\n",
    "\tfor i := 0; i < data_count; i++ {\n",
    "\t\tJ0, J1 := J(x[i], a0, b0)\n",
    "\t\tA.Set(i, 0, J0)\n",
    "\t\tA.Set(i, 1, J1)\n",
    "\t}\n",
    "\tb := mat.NewDense(data_count, 1, nil)\n",
    "\tfor i := 0; i < data_count; i++ {\n",
    "\t\tb.Set(i, 0, y[i] - U(x[i], a0, b0))\n",
    "\t}\n",
    "\n",
    "\t// Solve the equation system using least squares\n",
    "\tX := least_square(A, b)\n",
    "\t\n",
    "\t// Check if the solution is good enough\n",
    "\tX_mat := mat.NewDense(2, 1, X)\n",
    "\tif mat.Norm(X_mat, 1) < precision {\n",
    "\t\tbreak\n",
    "\t}\n",
    "\n",
    "\t// Refine the guesses\n",
    "\ta0 = a0 + X[0]\n",
    "\tb0 = b0 + X[1]\n",
    "}\n",
    "\n",
    "a3 = a0\n",
    "b3 = b0\n",
    "func f3(x float64) float64 {return U(x, a3, b3)};\n",
    "e3 := rmse(x, y, f3)\n",
    "fmt.Println(\"Gauus Newton solution:\")\n",
    "fmt.Println(\"a: \", a3, \"b: \", b3, \"RMSE: \", e3)"
   ]
  },
  {
   "cell_type": "code",
   "execution_count": 59,
   "metadata": {},
   "outputs": [
    {
     "name": "stdout",
     "output_type": "stream",
     "text": [
      "\n",
      "Polynomial interpolation solution:\n",
      "Coefficients:  [-5.306571277159706 0.0803201037171653 -0.0002697683629007291 4.391615144556583e-07 -3.154038492273997e-10 7.699716523246483e-14] RMSE:  1.8586870976047228e-13\n"
     ]
    },
    {
     "data": {
      "text/plain": [
       "175 <nil>"
      ]
     },
     "execution_count": 59,
     "metadata": {},
     "output_type": "execute_result"
    }
   ],
   "source": [
    "// Solve using polynomial interpolation\n",
    "c4 := polynomial_interpolation(x, y)\n",
    "func f4(x float64) float64 {var y float64; for i := 0; i < len(c4); i++ {y = y + c4[i]*math.Pow(x, float64(i))}; return y};\n",
    "e4 := rmse(x, y, f4)\n",
    "fmt.Println(\"\\nPolynomial interpolation solution:\")\n",
    "fmt.Println(\"Coefficients: \", c4, \"RMSE: \", e4)"
   ]
  },
  {
   "attachments": {},
   "cell_type": "markdown",
   "metadata": {},
   "source": [
    "Plot all the solutions"
   ]
  },
  {
   "cell_type": "code",
   "execution_count": 62,
   "metadata": {},
   "outputs": [
    {
     "data": {
      "image/png": "[encoded data removed]",
      "text/plain": [
       "image/png"
      ]
     },
     "metadata": {},
     "output_type": "display_data"
    }
   ],
   "source": [
    "p := plot_functions(0, 2200, 0, 10, []func(float64) float64{f1, f2, f3, f4}, [][]float64{x}, [][]float64{y})\n",
    "display_plot(p)"
   ]
  },
  {
   "attachments": {},
   "cell_type": "markdown",
   "metadata": {},
   "source": [
    "We can see that all four methods of regression gives a decent approxmate of the function U(x). One could say that polynomial interpolation is optimal since it gives no error but in this case we have U(inf)=8 which method 1-3 gives approximently while interpolation is very far from it.\n",
    "\n",
    "Comparing the error we have for LS on (5) e1 = 0.36, for LS on (6) e2 = 0.18 and GN on (6) e3 = 0.12. So according to this metric which also seems vaild according to the graph the gauss-newton method would be to prefer."
   ]
  },
  {
   "attachments": {},
   "cell_type": "markdown",
   "metadata": {},
   "source": [
    "## Problem 4"
   ]
  },
  {
   "cell_type": "code",
   "execution_count": null,
   "metadata": {},
   "outputs": [],
   "source": [
    "func g(x float64) float64 {\n",
    "\treturn 2 * math.Sqrt(x)\n",
    "}\n",
    "\n",
    "// Derivative of g\n",
    "func dg(x float64) float64 {\n",
    "\treturn math.Sqrt(x)\n",
    "}\n",
    "\n",
    "func p4_solve_system(T int, N int, x0 int, f func(float64) float64) {\n",
    "\n",
    "\tdt := float64(T) / float64(N)\n",
    "\titerations := 25\n",
    "\tprecision := 1e-4\n",
    "\n",
    "\tX := mat.NewDense(N+1, 1, nil) // capital\n",
    "\t// Starting guesses for capital\n",
    "\n",
    "\tfor i := 0; i < N+1; i++ {\n",
    "\t\tX.Set(i, 0, float64(x0 * (i+1)))\n",
    "\t}\n",
    "\t\n",
    "\t// Store updates capital values\n",
    "\tX_updated := mat.NewDense(N+1, 1, nil)\n",
    "\t_,_ := X_updated.Copy(X)\n",
    "\n",
    "\t// Changes in capital between iterations\n",
    "\tdelta_X := mat.NewDense(iterations, 1, nil)\n",
    "\n",
    "\tlagrange_multiplicators := mat.NewDense(1, N, nil)\n",
    "\n",
    "\tfor i := 0; i < iterations; i++ {\n",
    "\n",
    "\t\t// Initial value at t = 1\n",
    "\t\t//print_matrix(X)\n",
    "\t\tlagrange_multiplicators.Set(0, N-1, dg(X.At(N-1, 0)))\n",
    "\n",
    "\t\t// Outer loop for lagrange multiplicator using backwards Euler\n",
    "\t\tfor n := N-1; n >= 0; n-- {\n",
    "\t\n",
    "\t\t\tnew_value := lagrange_multiplicators.At(0, n) + dt * f(X.At(n, 0)) * lagrange_multiplicators.At(0, n)\n",
    "\t\t\tlagrange_multiplicators.Set(0, n, new_value)\n",
    "\t\t}\n",
    "\n",
    "\t\t// Update capital value using forward Euler\n",
    "\t\tfor n := 0; n < N; n++ {\n",
    "\t\t\tnew_value := X_updated.At(n, 0) + dt * (f(X_updated.At(n, 0)) - 1 / math.Pow(lagrange_multiplicators.At(0, n), 3/5))\n",
    "\t\t\tX_updated.Set(n+1, 0,  new_value)\n",
    "\t\t}\n",
    "\n",
    "\t\t// Subtract the capital X[i] with the updated capital, \n",
    "\t\t// Insert the new updated capital into X[i]\n",
    "\t\t// See if the change is small enough to break out of the outer loop\n",
    "\n",
    "\t\tdelta_capital := mat.NewDense(N+1, 1, nil)\n",
    "\t\tdelta_capital.Sub(X_updated, X)\n",
    "\t\tdelta_X.Set(i, 0, mat.Norm(delta_capital, 2))\n",
    "\n",
    "\t\t_,_ := X.Copy(X_updated)\n",
    "\n",
    "\t\tif(delta_X.At(i, 0) < precision) {\n",
    "\t\t\tprintln(\"Broke at iteration: \", i)\n",
    "\t\t\tbreak\n",
    "\t\t}\n",
    "\t}\n",
    "\n",
    "\t//print_matrix(lagrange_multiplicators)\n",
    "\n",
    "}\n",
    "\n",
    "p4_solve_system(1, 7, 1, f2)"
   ]
  },
  {
   "attachments": {},
   "cell_type": "markdown",
   "metadata": {},
   "source": [
    "## Problem 5"
   ]
  },
  {
   "cell_type": "markdown",
   "metadata": {},
   "source": []
  }
 ],
 "metadata": {
  "kernelspec": {
   "display_name": "Go",
   "language": "go",
   "name": "gophernotes"
  },
  "language_info": {
   "codemirror_mode": "",
   "file_extension": ".go",
   "mimetype": "",
   "name": "go",
   "nbconvert_exporter": "",
   "pygments_lexer": "",
   "version": "go1.11.4"
  },
  "orig_nbformat": 4
 },
 "nbformat": 4,
 "nbformat_minor": 2
}
