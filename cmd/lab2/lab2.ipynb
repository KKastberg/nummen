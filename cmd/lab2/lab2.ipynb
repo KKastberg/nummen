{
 "cells": [
  {
   "attachments": {},
   "cell_type": "markdown",
   "metadata": {},
   "source": [
    "### Neccessary imports"
   ]
  },
  {
   "cell_type": "code",
   "execution_count": 69,
   "metadata": {},
   "outputs": [],
   "source": [
    "import (\n",
    "\t\"fmt\"\n",
    "\t\"image/color\"\n",
    "\t\"math\"\n",
    "\t\"bytes\"\n",
    "\t\"math/rand\"\n",
    "\n",
    "\t\"gonum.org/v1/gonum/mat\"\n",
    "\t\"gonum.org/v1/plot\"\n",
    "\t\"gonum.org/v1/plot/plotter\"\n",
    "\t\"gonum.org/v1/plot/vg\"\n",
    ")"
   ]
  },
  {
   "attachments": {},
   "cell_type": "markdown",
   "metadata": {},
   "source": [
    "### Helper functions"
   ]
  },
  {
   "cell_type": "code",
   "execution_count": 93,
   "metadata": {},
   "outputs": [],
   "source": [
    "// Print a matrix in a nice format\n",
    "func print_matrix(matrix *mat.Dense) {\n",
    "\tvar rows, columns = matrix.Dims()\n",
    "\tfmt.Println(\"Matrix (\", rows, \"x\", columns, \"): \")\n",
    "\tfor i := 0; i < rows; i++ {\n",
    "\t\tfor j := 0; j < columns; j++ {\n",
    "\t\t\tfmt.Printf(\"%f \", matrix.At(i, j))\n",
    "\t\t}\n",
    "\t\tfmt.Println(\"\")\n",
    "\t}\n",
    "\tfmt.Println(\"\")\n",
    "}\n",
    "\n",
    "// Print a vector in a nice format\n",
    "func print_vector(vector *mat.VecDense) {\n",
    "\tvar rows, cols = vector.Dims()\n",
    "\tfmt.Println(\"Matrix (\", rows, \"x\", cols, \"): \")\n",
    "\tfor i := 0; i < rows; i++ {\n",
    "\t\tfmt.Printf(\"%f \", vector.At(i, 0))\n",
    "\t}\n",
    "\tfmt.Println(\"\")\n",
    "}\n",
    "\n",
    "\n",
    "// Function to plot the graphs of a list of functions given the x and y min and max\n",
    "func plot_functions(x_min float64, x_max float64, y_min float64, y_max float64, functions []func(float64) float64, x_points [][]float64, y_points [][]float64) *plot.Plot {\n",
    "\t// Create a plot and set its title and axis label\n",
    "\tp, err := plot.New()\n",
    "\tif err != nil {\n",
    "\t\tpanic(err)\n",
    "\t}\n",
    "\tp.Title.Text = \"Graphs\"\n",
    "\tp.X.Label.Text = \"X\"\n",
    "\tp.Y.Label.Text = \"Y\"\n",
    "\tp.X.Min = x_min\n",
    "\tp.X.Max = x_max\n",
    "\tp.Y.Min = y_min\n",
    "\tp.Y.Max = y_max\n",
    "\n",
    "\t// Create a grid\n",
    "\tgrid := plotter.NewGrid()\n",
    "\tp.Add(grid)\n",
    "\n",
    "\t// Create a line of points\n",
    "\tfor i := 0; i < len(functions); i++ {\n",
    "\t\tpts := make(plotter.XYs, 100)\n",
    "\t\tfor j := 0; j < 100; j++ {\n",
    "\t\t\tx := x_min + (x_max-x_min)*float64(j)/100\n",
    "\t\t\tpts[j].X = x\n",
    "\t\t\tpts[j].Y = math.Min(functions[i](x), y_max)\n",
    "\t\t}\n",
    "\n",
    "\t\t// Add the line to the plot\n",
    "\t\tl, err := plotter.NewLine(pts)\n",
    "\t\tif err != nil {\n",
    "\t\t\tpanic(err)\n",
    "\t\t}\n",
    "\t\tl.LineStyle.Width = vg.Points(1)\n",
    "\t\tl.LineStyle.Color = color.RGBA{R: uint8(rand.Intn(255)), G: uint8(rand.Intn(255)), B: uint8(rand.Intn(255)), A: 255}\n",
    "\t\tp.Add(l)\n",
    "\t}\n",
    "\n",
    "\t// Create a scatter plot\n",
    "\tfor i := 0; i < len(x_points); i++ {\n",
    "\t\tpts := make(plotter.XYs, len(x_points[i]))\n",
    "\t\tfor j := 0; j < len(x_points[i]); j++ {\n",
    "\t\t\tpts[j].X = x_points[i][j]\n",
    "\t\t\tpts[j].Y = y_points[i][j]\n",
    "\t\t}\n",
    "\n",
    "\t\t// Add the line to the plot\n",
    "\t\ts, err := plotter.NewScatter(pts)\n",
    "\t\tif err != nil {\n",
    "\t\t\tpanic(err)\n",
    "\t\t}\n",
    "\t\ts.GlyphStyle.Color = color.RGBA{R: uint8(rand.Intn(255)), G: uint8(rand.Intn(255)), B: uint8(rand.Intn(255)), A: 255}\n",
    "\t\tp.Add(s)\n",
    "\t}\n",
    "\n",
    "\treturn p\n",
    "}\n",
    "\n",
    "\n",
    "// Display a plot in the notebook\n",
    "func display_plot(p *plot.Plot) {\n",
    "\tvar buf bytes.Buffer\n",
    "\tc, err := p.WriterTo(6*vg.Inch, 6*vg.Inch, \"png\")\n",
    "\tif err != nil {\n",
    "\t\t\tpanic(err)\n",
    "\t}\n",
    "\tif _, err := c.WriteTo(&buf); err != nil {\n",
    "\t\t\tpanic(err)\n",
    "\t}\n",
    "\tDisplay(display.PNG(buf.Bytes()))\n",
    "}"
   ]
  },
  {
   "attachments": {},
   "cell_type": "markdown",
   "metadata": {},
   "source": [
    "### Least squares method\n",
    "\n",
    "$\\vec{x} = (A^{T}A)^{-1}A^{T}\\vec{b}$"
   ]
  },
  {
   "cell_type": "code",
   "execution_count": 7,
   "metadata": {},
   "outputs": [],
   "source": [
    "// Solve a linear system of equations using least squares\n",
    "// returns a list of the calculated constants ordered by the columns of A\n",
    "func least_square(A *mat.Dense, b *mat.Dense) []float64 {\n",
    "\tA_rows, A_cols := A.Dims()\n",
    "\t_, b_cols := b.Dims()\n",
    "\n",
    "\t// Create the matrix (A^T*A)^-1\n",
    "\tA_T_A := mat.NewDense(A_cols, A_cols, nil)\n",
    "\tA_T_A.Mul(A.T(), A)\n",
    "\tA_T_A_inv := mat.NewDense(A_cols, A_cols, nil)\n",
    "\tA_T_A_inv.Inverse(A_T_A)\n",
    "\n",
    "\t// Create the matrix A^T*b\n",
    "\tA_T_b := mat.NewDense(A_cols, b_cols, nil)\n",
    "\tA_T_b.Mul(A.T(), b)\n",
    "\n",
    "\t// Calculate the solution x\n",
    "\tx := mat.NewDense(A_cols, b_cols, nil)\n",
    "\tx.Mul(A_T_A_inv, A_T_b)\n",
    "\n",
    "\tx_list := make([]float64, A_cols)\n",
    "\tfor i := 0; i < A_cols; i++ {\n",
    "\t\tx_list[i] = x.At(i, 0)\n",
    "\t}\n",
    "\n",
    "\treturn x_list\n",
    "}"
   ]
  },
  {
   "attachments": {},
   "cell_type": "markdown",
   "metadata": {},
   "source": [
    "### Polynomial interpolation"
   ]
  },
  {
   "cell_type": "code",
   "execution_count": 95,
   "metadata": {},
   "outputs": [],
   "source": [
    "// Perform polynomial interpolation to find the coefficients of the polynomial\n",
    "func polynomial_interpolation(x []float64, y []float64) []float64 {\n",
    "\tpoint_count := len(x)\n",
    "\ty_vector := mat.NewVecDense(point_count, y)\n",
    "\t\n",
    "\t// Create vander matrix\n",
    "\tvander_matrix := mat.NewDense(point_count, point_count, nil)\n",
    "\tfor row := 0; row < point_count; row++ {\n",
    "\t\tfor col := 0; col < point_count; col++ {\n",
    "\t\t\tvander_matrix.Set(row, col, math.Pow(x[row], float64(col)))\n",
    "\t\t}\n",
    "\t}\n",
    "\n",
    "\t// Solve the system of equations\n",
    "\tvar c mat.VecDense\n",
    "\tc.SolveVec(vander_matrix, y_vector)\n",
    "\n",
    "\t// Convert the solution to a list\n",
    "\tsolution := make([]float64, point_count)\n",
    "\tfor i := 0; i < point_count; i++ {\n",
    "\t\tsolution[i] = c.At(i, 0)\n",
    "\t}\n",
    "\treturn solution\n",
    "}"
   ]
  },
  {
   "attachments": {},
   "cell_type": "markdown",
   "metadata": {},
   "source": [
    "## Problem 2"
   ]
  },
  {
   "cell_type": "code",
   "execution_count": 100,
   "metadata": {},
   "outputs": [
    {
     "name": "stdout",
     "output_type": "stream",
     "text": [
      "Least squares solution:  [1.0708944034566272 0.061849368625103374]\n",
      "Polynomial interpolation solution:  [0 -8.78166723647708 44.165113675259256 -70.92037448567002 51.97907708140844 -17.549630642626468 2.197481608106086]\n"
     ]
    },
    {
     "data": {
      "image/png": "[encoded data removed]",
      "text/plain": [
       "image/png"
      ]
     },
     "metadata": {},
     "output_type": "display_data"
    }
   ],
   "source": [
    "// Data points\n",
    "x := []float64{0.0, 0.5, 1.0, 1.5, 2.0, 2.99, 3.0}\n",
    "y := []float64{0.0, 0.52, 1.09, 1.75, 2.45, 3.5, 4.0}\n",
    "\n",
    "// Solve using least squares\n",
    "A := mat.NewDense(7, 2, nil)\n",
    "for i := 0; i < 7; i++ {\n",
    "\tA.Set(i, 0, x[i])\n",
    "\tA.Set(i, 1, math.Pow(x[i], 2))\n",
    "}\n",
    "b := mat.NewDense(7, 1, y)\n",
    "\n",
    "c1 := least_square(A, b)\n",
    "func f1(x float64) float64 {return c1[0]*x + c1[1]*math.Pow(x, 2)};\n",
    "fmt.Println(\"Least squares solution: \", c1)\n",
    "\n",
    "// Solve using polynomial interpolation\n",
    "c2 := polynomial_interpolation(x, y)\n",
    "func f2(x float64) float64 {var y float64; for i := 0; i < len(c2); i++ {y = y + c2[i]*math.Pow(x, float64(i))}; return y};\n",
    "fmt.Println(\"Polynomial interpolation solution: \", c2)\n",
    "\n",
    "// Plot the results\n",
    "p := plot_functions(0, 3.5, 0, 5, []func(float64) float64{f1, f2}, [][]float64{x}, [][]float64{y})\n",
    "display_plot(p)"
   ]
  },
  {
   "cell_type": "code",
   "execution_count": null,
   "metadata": {},
   "outputs": [],
   "source": []
  },
  {
   "cell_type": "code",
   "execution_count": null,
   "metadata": {},
   "outputs": [],
   "source": []
  }
 ],
 "metadata": {
  "kernelspec": {
   "display_name": "Go",
   "language": "go",
   "name": "gophernotes"
  },
  "language_info": {
   "codemirror_mode": "",
   "file_extension": ".go",
   "mimetype": "",
   "name": "go",
   "nbconvert_exporter": "",
   "pygments_lexer": "",
   "version": "go1.11.4"
  },
  "orig_nbformat": 4
 },
 "nbformat": 4,
 "nbformat_minor": 2
}
