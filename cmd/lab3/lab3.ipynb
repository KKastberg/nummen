{
 "cells": [
  {
   "attachments": {},
   "cell_type": "markdown",
   "metadata": {},
   "source": [
    "# Necessary imports"
   ]
  },
  {
   "cell_type": "code",
   "execution_count": 4,
   "metadata": {},
   "outputs": [],
   "source": [
    "import (\n",
    "\t\"fmt\"\n",
    "\t\"image/color\"\n",
    "\t\"math\"\n",
    "\t\"bytes\"\n",
    "\t\"math/rand\"\n",
    "\n",
    "\t\"gonum.org/v1/gonum/mat\"\n",
    "\t\"gonum.org/v1/gonum/stat/distuv\"\n",
    "\t\"gonum.org/v1/plot\"\n",
    "\t\"gonum.org/v1/plot/plotter\"\n",
    "\t\"gonum.org/v1/plot/vg\"\n",
    ")"
   ]
  },
  {
   "attachments": {},
   "cell_type": "markdown",
   "metadata": {},
   "source": [
    "# Problem 1"
   ]
  },
  {
   "cell_type": "code",
   "execution_count": 42,
   "metadata": {},
   "outputs": [],
   "source": [
    "func p1_f(x float64) float64 { return math.Pow(1.0 + x, -0.5) }\n",
    "func p1_F(x float64) float64 { return 2.0*math.Pow(1.0 + x, 0.5)} // anti-derivative of f\n",
    "\n",
    "func p1_trap(a float64, b float64, N int) float64 {\n",
    "\n",
    "\t// Step size (determined by # of points)\n",
    "\th := (b-a) / float64(N)\n",
    "\n",
    "\titerations := 0\n",
    "\tsum := 0.0\n",
    "\tfor x_i := h; x_i < 1.0; x_i += h {\n",
    "\n",
    "\t\ty_i := p1_f(x_i)\n",
    "\t\tsum += y_i\n",
    "\t\titerations++\n",
    "\t}\n",
    "\tfmt.Printf(\"%d\\n\", iterations)\n",
    "\n",
    "\tendpoint_0 := p1_f(0.0) / 2.0\n",
    "\tendpoint_n := p1_f(1.0) / 2.0\n",
    "\n",
    "\tQ := h * (endpoint_0 + sum + endpoint_n)\n",
    "\tfmt.Printf(\"Q = %f\\n\", Q)\n",
    "\n",
    "\treturn Q\n",
    "\n",
    "}\n"
   ]
  },
  {
   "cell_type": "code",
   "execution_count": 51,
   "metadata": {},
   "outputs": [],
   "source": [
    "func p1_monte(N int) []float64 {\n",
    "\t\n",
    "\tY := 0.0\n",
    "\tareas := make([]float64, N)\n",
    "\t\n",
    "\tfor i := 1; i <= N; i++ {\n",
    "\t\n",
    "\t\tX := rand.Float64()\n",
    "\t\tY += p1_f(X)\n",
    "\t\n",
    "\t\tareas[i-1] = Y / float64(i)\n",
    "\t}\n",
    "\t\n",
    "\tfmt.Println(areas[N-1])\n",
    "\treturn areas\n",
    "}\n"
   ]
  },
  {
   "cell_type": "code",
   "execution_count": 67,
   "metadata": {},
   "outputs": [
    {
     "name": "stdout",
     "output_type": "stream",
     "text": [
      "999\n",
      "Q = 0.828427\n",
      "0.8291258755930432\n",
      "Trapezoid error: 2.693527E-08\n",
      "Monte-carlo error: 6.987508E-04\n"
     ]
    },
    {
     "data": {
      "text/plain": [
       "32 <nil>"
      ]
     },
     "execution_count": 67,
     "metadata": {},
     "output_type": "execute_result"
    }
   ],
   "source": [
    "// Calculate errors\n",
    "N := 1000\n",
    "exact_value := p1_F(1.0) - p1_F(0.0)\n",
    "trapezoid_error := math.Abs(exact_value - p1_trap(0.0, 1.0, N))\n",
    "monte_error := math.Abs(exact_value - p1_monte(N)[N-1])\n",
    "\n",
    "fmt.Printf(\"Trapezoid error: %E\\n\", trapezoid_error)\n",
    "fmt.Printf(\"Monte-carlo error: %E\\n\", monte_error)"
   ]
  },
  {
   "attachments": {},
   "cell_type": "markdown",
   "metadata": {},
   "source": [
    "# Problem  \n",
    "\n",
    "We can use this formula to calculate the price of the option:\n",
    "\n",
    "$E\\left[\\max \\left(S_T-K, 0\\right) \\mid S 0=s\\right] \\approx \\frac{1}{N} \\sum_{n=1}^N \\max \\left(S_T[n]-K, 0\\right)$\n",
    "\n",
    "where \n",
    "\n",
    "$S_i(T)=e^{-\\sigma^2 T / 2+\\sigma W_i(T)} s_i$\n"
   ]
  },
  {
   "cell_type": "code",
   "execution_count": 69,
   "metadata": {},
   "outputs": [],
   "source": [
    "// Code to create a generic stock S(T) with variance T\n",
    "func W(T float64) float64 {return rand.NormFloat64() * math.Sqrt(T)}\n",
    "func create_stock(T float64) func() float64 {\n",
    "\treturn func() float64 {\n",
    "\t\treturn s * math.Exp(- math.Pow(sigma, 2) * (T / 2.0) + sigma * W(T))\n",
    "\t}\n",
    "}\n",
    "\n",
    "// Calulate the payoff of on a call option\n",
    "func payoff(stocks []func() float64) float64 {\n",
    "\t// Retrive largest stock\n",
    "\tvar max_stock float64\n",
    "\tfor _, stock := range stocks {\n",
    "\t\tmax_stock = math.Max(max_stock, stock())\n",
    "\t}\n",
    "\treturn math.Max(0, max_stock - K)\n",
    "}\n",
    "\n",
    "// Calculate the option price using Monte-Carlo\n",
    "func monte_carlo_price(stocks []func() float64, N int) float64 {\n",
    "\tvar sum float64\n",
    "\tfor i := 0; i < N; i++ {\n",
    "\t\tsum += payoff(stocks)\n",
    "\t}\n",
    "\treturn sum / float64(N)\n",
    "}\n",
    "\n"
   ]
  },
  {
   "cell_type": "code",
   "execution_count": 70,
   "metadata": {},
   "outputs": [
    {
     "name": "stdout",
     "output_type": "stream",
     "text": [
      "Black-Scholes: 0.097180 \t Monte Carlo: 0.097049 \t Error: 0.000065\n"
     ]
    },
    {
     "data": {
      "text/plain": [
       "66 <nil>"
      ]
     },
     "execution_count": 70,
     "metadata": {},
     "output_type": "execute_result"
    }
   ],
   "source": [
    "T \t\t\t\t := 1.0  // Variance\n",
    "sigma \t\t := 0.2  // Standard deviation\n",
    "K \t\t\t\t := 1.22 // Strike price\n",
    "s \t\t\t\t := K    // Condition\n",
    "iterations := 1000000\n",
    "\n",
    "// Calculate the option price using Black-Scholes\n",
    "func black_scholes() float64 {\n",
    "\td1 := (math.Log(s / K) + (math.Pow(sigma, 2) / 2.0) * T) / (sigma * math.Sqrt(T))\n",
    "\td2 := d1 - sigma * math.Sqrt(T)\n",
    "\tdist := distuv.UnitNormal\n",
    "\treturn s * dist.CDF(d1) - K * dist.CDF(d2)\n",
    "}\n",
    "b := black_scholes()\n",
    "\n",
    "// Calculate the option price using Monte Carlo\n",
    "stocks := make([]func() float64, 1)\n",
    "stocks[0] = create_stock(T)\n",
    "m := monte_carlo_price(stocks, iterations)\n",
    "\n",
    "fmt.Printf(\"Black-Scholes: %f \\t Monte Carlo: %f \\t Error: %f\\n\", b, m, e)"
   ]
  },
  {
   "attachments": {},
   "cell_type": "markdown",
   "metadata": {},
   "source": [
    "# Problem 3\n",
    "\n",
    "$E\\left[\\max \\left(\\max \\left(S_1(T), S_2(T)\\right)-K, 0\\right), \\mid S_1(0)=s_1, S_2(0)=s_2\\right] \\approx \\frac{1}{N} \\sum_{n=1}^N \\max \\left(\\max \\left(S_1[n], S_2[n]\\right)-K, 0\\right)$"
   ]
  },
  {
   "cell_type": "code",
   "execution_count": 73,
   "metadata": {},
   "outputs": [
    {
     "name": "stdout",
     "output_type": "stream",
     "text": [
      "Two stocks: 0.169842\n"
     ]
    },
    {
     "data": {
      "text/plain": [
       "21 <nil>"
      ]
     },
     "execution_count": 73,
     "metadata": {},
     "output_type": "execute_result"
    }
   ],
   "source": [
    "T \t\t\t\t := 1.0  // Variance\n",
    "sigma \t\t := 0.2  // Standard deviation\n",
    "K \t\t\t\t := 1.22 // Strike price\n",
    "s \t\t\t\t := K    // Condition\n",
    "iterations := 10000\n",
    "\n",
    "// Calculate the option price using Monte Carlo\n",
    "stocks := make([]func() float64, 2)\n",
    "stocks[0] = create_stock(T)\n",
    "stocks[1] = create_stock(T)\n",
    "m := monte_carlo_price(stocks, iterations)\n",
    "\n",
    "fmt.Printf(\"Two stocks: %f\\n\", m)"
   ]
  },
  {
   "cell_type": "code",
   "execution_count": 77,
   "metadata": {},
   "outputs": [
    {
     "name": "stdout",
     "output_type": "stream",
     "text": [
      "10 stocks: 0.418486\n"
     ]
    },
    {
     "data": {
      "text/plain": [
       "20 <nil>"
      ]
     },
     "execution_count": 77,
     "metadata": {},
     "output_type": "execute_result"
    }
   ],
   "source": [
    "stock_count := 10\n",
    "\n",
    "// Calculate option price for a specified number of stocks\n",
    "stocks := make([]func() float64, stock_count)\n",
    "for i := 0; i < stock_count; i++ {\n",
    "\tstocks[i] = create_stock(T)\n",
    "}\n",
    "m := monte_carlo_price(stocks, iterations)\n",
    "\n",
    "fmt.Printf(\"%d stocks: %f\\n\", stock_count, m)"
   ]
  },
  {
   "attachments": {},
   "cell_type": "markdown",
   "metadata": {},
   "source": [
    "# Problem 4"
   ]
  },
  {
   "attachments": {},
   "cell_type": "markdown",
   "metadata": {},
   "source": [
    "# Problem 5"
   ]
  }
 ],
 "metadata": {
  "kernelspec": {
   "display_name": "Go",
   "language": "go",
   "name": "gophernotes"
  },
  "language_info": {
   "codemirror_mode": "",
   "file_extension": ".go",
   "mimetype": "",
   "name": "go",
   "nbconvert_exporter": "",
   "pygments_lexer": "",
   "version": "go1.11.4"
  },
  "orig_nbformat": 4,
  "vscode": {
   "interpreter": {
    "hash": "60ee3f9c8b7b6f509d3176ca81c97497a70bdd702ca164ddd7db8a4a75387cc0"
   }
  }
 },
 "nbformat": 4,
 "nbformat_minor": 2
}
