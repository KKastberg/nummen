{
 "cells": [
  {
   "cell_type": "code",
   "execution_count": 5,
   "metadata": {},
   "outputs": [],
   "source": [
    "import (\n",
    "\t\"fmt\"\n",
    "\t\"math/rand\"\n",
    "\t\"math\"\n",
    ")"
   ]
  },
  {
   "cell_type": "code",
   "execution_count": 60,
   "metadata": {},
   "outputs": [
    {
     "name": "stdout",
     "output_type": "stream",
     "text": [
      "0.2695122302762061\n"
     ]
    },
    {
     "data": {
      "text/plain": [
       "19 <nil>"
      ]
     },
     "execution_count": 60,
     "metadata": {},
     "output_type": "execute_result"
    }
   ],
   "source": [
    "T \t\t\t\t := 1.0  // Variance\n",
    "sigma \t\t := 0.2  // Standard deviation\n",
    "K \t\t\t\t := 1.22 // Strike price\n",
    "s \t\t\t\t := K    // Condition\n",
    "iterations := 1000000\n",
    "\n",
    "func W(T float64) float64 {return rand.NormFloat64() * math.Sqrt(T)}\n",
    "func create_stock(T float64) func() float64 {\n",
    "\treturn func() float64 {\n",
    "\t\treturn s * math.Exp(- math.Pow(sigma, 2) * (T / 2.0) + sigma * W(T))\n",
    "\t}\n",
    "}\n",
    "\n",
    "stocks := make([]func() float64, 4)\n",
    "stocks[0] = create_stock(T)\n",
    "stocks[1] = create_stock(T)\n",
    "stocks[2] = create_stock(T)\n",
    "stocks[3] = create_stock(T)\n",
    "\n",
    "func price(stocks []func() float64) float64 {\n",
    "\t// Retrive largest stock\n",
    "\tvar max_stock float64\n",
    "\tfor _, stock := range stocks {\n",
    "\t\tmax_stock = math.Max(max_stock, stock())\n",
    "\t}\n",
    "\treturn math.Max(0, max_stock - K)\n",
    "}\n",
    "\n",
    "sum := 0.0\n",
    "for i := 0; i < iterations; i++ {\n",
    "\tsum += price(stocks)\n",
    "}\n",
    "option_price := sum / float64(iterations)\n",
    "\n",
    "fmt.Println(option_price)"
   ]
  },
  {
   "cell_type": "code",
   "execution_count": 35,
   "metadata": {},
   "outputs": [],
   "source": [
    "func W(T float64) float64 {return rand.NormFloat64() * math.Sqrt(T)}\n",
    "func create_stock(T float64) func() float64 {\n",
    "\treturn func() float64 {\n",
    "\t\treturn s * math.Exp(- math.Pow(sigma, 2) * (T / 2.0) + sigma * W(T))\n",
    "\t}\n",
    "}"
   ]
  },
  {
   "cell_type": "code",
   "execution_count": null,
   "metadata": {},
   "outputs": [],
   "source": []
  }
 ],
 "metadata": {
  "kernelspec": {
   "display_name": "Go",
   "language": "go",
   "name": "gophernotes"
  },
  "language_info": {
   "codemirror_mode": "",
   "file_extension": ".go",
   "mimetype": "",
   "name": "go",
   "nbconvert_exporter": "",
   "pygments_lexer": "",
   "version": "go1.11.4"
  },
  "orig_nbformat": 4,
  "vscode": {
   "interpreter": {
    "hash": "1a1af0ee75eeea9e2e1ee996c87e7a2b11a0bebd85af04bb136d915cefc0abce"
   }
  }
 },
 "nbformat": 4,
 "nbformat_minor": 2
}
